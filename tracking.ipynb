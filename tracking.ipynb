### 20 Nov to 20 Dec, One month Progress Report

### My inclusion to this Team
I first talked to Shahid(the founder) on 5th November, 2024. then after talking with other members, shahid finally includes me as a member on 17 November and that day month starts to get renumeration from the founder. Now journey goes on. 

### My progress and contribution in 3 categories:

1) Project Idea Submission
   --Rag chatbot Project
   --
2) Technical knowledge gained
3) building an efficient team

