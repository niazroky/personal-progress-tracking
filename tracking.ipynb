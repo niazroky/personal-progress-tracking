## Bank Customer Churn - Exploratory Data Analysis (EDA)

This analysis dives into the **Bank Customer Churn** dataset, revealing insights that influence customer churn. A modular approach using design patterns ensures clean, maintainable, and scalable code for basic data inspection, univariate, bivariate, and multivariate analyses. You can collect the data from [here](https://www.kaggle.com/datasets/radheshyamkollipara/bank-customer-churn).

### Design Pattern Overview

In this project, I utilized the **Strategy Design Pattern**. This pattern allows the definition of a family of algorithms and makes them interchangeable without altering the clients that use them. This promotes flexibility and reusability in code.

### Analysis Components
- **Basic Data Inspection**: Utilizes different inspection strategies to analyze the dataset's structure, including data types, non-null counts, and summary statistics. This provides foundational insights into the dataset before further analysis.
- **Univariate Analysis**: Isolated feature exploration using `UnivariateAnalyzer` with separate handlers for numerical and categorical data. This helps in understanding the distribution and characteristics of individual features.
- **Bivariate Analysis**: Relationships between two variables explored with `BivariateAnalyzer`. This allows for the identification of correlations and interactions between different features.
- **Multivariate Analysis**: Complex interactions analyzed through `SimpleMultivariateAnalysis`. This approach helps in understanding how multiple variables affect customer churn simultaneously.

### Table of Contents
1. [Load the Depandencies](##Load-Libraries,-Custom-Classes-and-Data)
   - [Load Libraries](###Load-Libraries)
   - [Custom Classes](###Import-Custom-Classes)
   - [Load Data](###Load-Data)
2. [Basic Data Inspection](#Basic-Data-Inspection)
   - [Feature Overview](###Feature-Overview)
   - [Data Inspection Summary](###Insights-From-Basic-Data-Inspection)
3. [Missing Value Analysis](##Missing-Value-Analysis)
   - [Missing Value Summary](###Conclusion-on-Missing-Values)
4. [Univariate Analysis](##Univariate-Analysis)
   - [Univarite Visualization](###Univariate-Visualization)
   - [Value Count Categorical Columns](###Value-Count-for-Categorical-Columns)
   - [Distribution of Numerical Columns](###-Distribution-of-Numerical-Columns)
   - [Univariate Analysis Summary](###Summary-of-Univariate-Analysis)
5. [Bivariate Analysis](##Bivariate-Analysis)
   - [Numerical vs Numerical Visualization](###Numerical-vs-Numerical-Visualization)
   - [Categorical vs Numerical Visualization](###Categorical-vs-Numerical-Visualization)
   - [Categorical vs Categorical Visualization](###Categorical-vs-Categorical-Visualization)
   - [Bivariate Analysis Summary](###Summary-of-Bivariate-Analysis)
6. [Multivariate Analysis](##Multivariate-Analysis)
   - [Multivariate Visualization](###Multivariate-Visualization)
   - [Multivariate Analysis Summary](###Multivariate-Analysis-Summary)

6. [Final Insights and Actions](##Final-Insights-and-Actions)


*By leveraging modular design patterns, the analysis is both clean and scalable. This approach ensures the flexibility to handle complex datasets while maintaining clarity and reusability.*
